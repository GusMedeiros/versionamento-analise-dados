{
 "cells": [
  {
   "cell_type": "markdown",
   "id": "17055fad",
   "metadata": {},
   "source": [
    "5. Análise de Conformidade com as Normas do Projeto\n",
    "\n",
    "Desenvolvedores experientes tendem a seguir melhor as \"regras não escritas\" de um projeto.\n",
    "Métricas a extrair:\n",
    "\n",
    "Formato das mensagens de commit: Analise as commits[].message. Elas seguem um padrão (ex: \"feat:\", \"fix:\", \"docs:\")? A conformidade com esse padrão aumenta com a experiência? Você pode usar expressões regulares para verificar isso.\n",
    "\n",
    "Escopo das mudanças: Analise os files[].filename. Desenvolvedores mais novos tendem a modificar apenas arquivos em áreas \"periféricas\" do projeto, enquanto os mais experientes alteram arquivos do \"core\"? Você precisaria classificar os diretórios do projeto.\n",
    "\n",
    "Interações com a timeline: O campo timeline é riquíssimo. Você pode ver se desenvolvedores mais experientes fazem mais \"self-review\" ou se seus PRs são mais frequentemente marcados com labels específicas (ex: \"needs-testing\").\n",
    "\n",
    "Como Estruturar seu Trabalho\n",
    "\n",
    "Introdução: Apresente a pergunta de pesquisa, sua importância (melhorar o onboarding de novos desenvolvedores, entender a aquisição de expertise, etc.) e sua metodologia de coleta de dados.\n",
    "\n",
    "Análises: Dedique uma seção para cada um dos temas acima (Tamanho e Complexidade, Eficiência, Qualidade, etc.).\n",
    "\n",
    "Para cada seção, comece com a hipótese.\n",
    "\n",
    "\n",
    "Apresente as métricas que você calculou.\n",
    "\n",
    "Mostre as visualizações (gráficos).\n",
    "\n",
    "Discuta os resultados. Lembre-se de usar testes de significância estatística (como teste t ou ANOVA) para confirmar se as diferenças que você observa entre as faixas são estatisticamente significativas.\n",
    "\n",
    "Discussão: Junte todos os resultados. Crie um \"perfil\" do desenvolvedor de cada faixa. Por exemplo: \"Os resultados sugerem que um desenvolvedor da Faixa E tende a submeter PRs grandes que levam 50% mais tempo para serem mesclados e recebem o dobro de comentários de revisão por linha de código em comparação com um desenvolvedor da Faixa A.\"\n",
    "\n",
    "Ameaças à Validade: Discuta as limitações do seu estudo. Por exemplo, o número de PRs é um bom proxy para \"experiência\"? A análise se limita a projetos de código aberto?"
   ]
  },
  {
   "cell_type": "code",
   "execution_count": 2,
   "id": "c8afabed",
   "metadata": {
    "ExecuteTime": {
     "end_time": "2025-06-26T23:00:01.644260Z",
     "start_time": "2025-06-26T23:00:01.233087Z"
    }
   },
   "outputs": [
    {
     "name": "stdout",
     "output_type": "stream",
     "text": [
      "Defaulting to user installation because normal site-packages is not writeable\n",
      "Requirement already satisfied: seaborn in c:\\users\\macha\\appdata\\roaming\\python\\python312\\site-packages (0.13.2)\n",
      "Requirement already satisfied: numpy!=1.24.0,>=1.20 in c:\\users\\macha\\appdata\\roaming\\python\\python312\\site-packages (from seaborn) (2.3.1)\n",
      "Requirement already satisfied: pandas>=1.2 in c:\\users\\macha\\appdata\\roaming\\python\\python312\\site-packages (from seaborn) (2.3.0)\n",
      "Requirement already satisfied: matplotlib!=3.6.1,>=3.4 in c:\\users\\macha\\appdata\\roaming\\python\\python312\\site-packages (from seaborn) (3.10.3)\n",
      "Requirement already satisfied: contourpy>=1.0.1 in c:\\users\\macha\\appdata\\roaming\\python\\python312\\site-packages (from matplotlib!=3.6.1,>=3.4->seaborn) (1.3.2)\n",
      "Requirement already satisfied: cycler>=0.10 in c:\\users\\macha\\appdata\\roaming\\python\\python312\\site-packages (from matplotlib!=3.6.1,>=3.4->seaborn) (0.12.1)\n",
      "Requirement already satisfied: fonttools>=4.22.0 in c:\\users\\macha\\appdata\\roaming\\python\\python312\\site-packages (from matplotlib!=3.6.1,>=3.4->seaborn) (4.58.4)\n",
      "Requirement already satisfied: kiwisolver>=1.3.1 in c:\\users\\macha\\appdata\\roaming\\python\\python312\\site-packages (from matplotlib!=3.6.1,>=3.4->seaborn) (1.4.8)\n",
      "Requirement already satisfied: packaging>=20.0 in c:\\users\\macha\\appdata\\roaming\\python\\python312\\site-packages (from matplotlib!=3.6.1,>=3.4->seaborn) (24.1)\n",
      "Requirement already satisfied: pillow>=8 in c:\\users\\macha\\appdata\\roaming\\python\\python312\\site-packages (from matplotlib!=3.6.1,>=3.4->seaborn) (11.2.1)\n",
      "Requirement already satisfied: pyparsing>=2.3.1 in c:\\users\\macha\\appdata\\roaming\\python\\python312\\site-packages (from matplotlib!=3.6.1,>=3.4->seaborn) (3.2.3)\n",
      "Requirement already satisfied: python-dateutil>=2.7 in c:\\users\\macha\\appdata\\roaming\\python\\python312\\site-packages (from matplotlib!=3.6.1,>=3.4->seaborn) (2.9.0.post0)\n",
      "Requirement already satisfied: pytz>=2020.1 in c:\\users\\macha\\appdata\\roaming\\python\\python312\\site-packages (from pandas>=1.2->seaborn) (2025.2)\n",
      "Requirement already satisfied: tzdata>=2022.7 in c:\\users\\macha\\appdata\\roaming\\python\\python312\\site-packages (from pandas>=1.2->seaborn) (2025.2)\n",
      "Requirement already satisfied: six>=1.5 in c:\\users\\macha\\appdata\\roaming\\python\\python312\\site-packages (from python-dateutil>=2.7->matplotlib!=3.6.1,>=3.4->seaborn) (1.16.0)\n"
     ]
    },
    {
     "name": "stderr",
     "output_type": "stream",
     "text": [
      "\n",
      "[notice] A new release of pip is available: 24.2 -> 25.1.1\n",
      "[notice] To update, run: python.exe -m pip install --upgrade pip\n"
     ]
    }
   ],
   "source": [
    "!pip install seaborn"
   ]
  },
  {
   "cell_type": "code",
   "execution_count": 3,
   "id": "0d1b5a1f",
   "metadata": {
    "ExecuteTime": {
     "end_time": "2025-06-26T23:00:01.653367Z",
     "start_time": "2025-06-26T23:00:01.651724Z"
    }
   },
   "outputs": [
    {
     "name": "stdout",
     "output_type": "stream",
     "text": [
      "O tamanho do arquivo 'lista_completa_prs.pkl' é: 461128524 bytes.\n"
     ]
    }
   ],
   "source": [
    "import os\n",
    "\n",
    "# Verifique o tamanho do arquivo em bytes\n",
    "try:\n",
    "    tamanho_do_arquivo = os.path.getsize('lista_completa_prs.pkl')\n",
    "    print(f\"O tamanho do arquivo 'lista_completa_prs.pkl' é: {tamanho_do_arquivo} bytes.\")\n",
    "except FileNotFoundError:\n",
    "    print(\"O arquivo 'lista_completa_prs.pkl' não foi encontrado.\")"
   ]
  },
  {
   "cell_type": "code",
   "execution_count": 4,
   "id": "1ec0f080",
   "metadata": {
    "ExecuteTime": {
     "end_time": "2025-06-26T23:00:03.030473Z",
     "start_time": "2025-06-26T23:00:01.697636Z"
    }
   },
   "outputs": [
    {
     "name": "stdout",
     "output_type": "stream",
     "text": [
      "Sucesso! Arquivo carregado. A variável 'lista_prs_enriquecida' agora contém 73325 PRs.\n",
      "Amostra dos dados carregados:\n"
     ]
    },
    {
     "data": {
      "text/html": [
       "<div>\n",
       "<style scoped>\n",
       "    .dataframe tbody tr th:only-of-type {\n",
       "        vertical-align: middle;\n",
       "    }\n",
       "\n",
       "    .dataframe tbody tr th {\n",
       "        vertical-align: top;\n",
       "    }\n",
       "\n",
       "    .dataframe thead th {\n",
       "        text-align: right;\n",
       "    }\n",
       "</style>\n",
       "<table border=\"1\" class=\"dataframe\">\n",
       "  <thead>\n",
       "    <tr style=\"text-align: right;\">\n",
       "      <th></th>\n",
       "      <th>pr_number</th>\n",
       "      <th>repo</th>\n",
       "      <th>title</th>\n",
       "      <th>author</th>\n",
       "      <th>state</th>\n",
       "      <th>merged_at</th>\n",
       "      <th>created_at</th>\n",
       "      <th>head_sha</th>\n",
       "      <th>ci_status_on_head</th>\n",
       "      <th>counts</th>\n",
       "      <th>files</th>\n",
       "      <th>commits</th>\n",
       "      <th>reviews</th>\n",
       "      <th>review_comments</th>\n",
       "      <th>issue_comments</th>\n",
       "      <th>timeline</th>\n",
       "      <th>faixa</th>\n",
       "    </tr>\n",
       "  </thead>\n",
       "  <tbody>\n",
       "    <tr>\n",
       "      <th>0</th>\n",
       "      <td>30749</td>\n",
       "      <td>apache-superset</td>\n",
       "      <td>docs: Update INTHEWILD.md with Medic</td>\n",
       "      <td>1yuv</td>\n",
       "      <td>closed</td>\n",
       "      <td>2024-10-30T01:29:33Z</td>\n",
       "      <td>2024-10-30T01:04:34Z</td>\n",
       "      <td>158b796a7977ee8563670befaeb78da3ed83ec80</td>\n",
       "      <td>pending</td>\n",
       "      <td>{'files': 1, 'commits': 1, 'reviews': 2, 'revi...</td>\n",
       "      <td>[{'filename': 'RESOURCES/INTHEWILD.md', 'addit...</td>\n",
       "      <td>[{'sha': '158b796a7977ee8563670befaeb78da3ed83...</td>\n",
       "      <td>[{'user': 'github-actions[bot]', 'state': 'COM...</td>\n",
       "      <td>[]</td>\n",
       "      <td>[{'user': 'rusackas', 'created_at': '2024-10-3...</td>\n",
       "      <td>[{'event': 'committed', 'actor': None, 'create...</td>\n",
       "      <td>E</td>\n",
       "    </tr>\n",
       "    <tr>\n",
       "      <th>1</th>\n",
       "      <td>18087</td>\n",
       "      <td>apache-superset</td>\n",
       "      <td>fix(docs): Correction of proper names format i...</td>\n",
       "      <td>ad-m</td>\n",
       "      <td>closed</td>\n",
       "      <td>2022-01-19T14:20:42Z</td>\n",
       "      <td>2022-01-19T12:58:18Z</td>\n",
       "      <td>80f49fc900280403dee103b52b496bdc84d4c6ca</td>\n",
       "      <td>pending</td>\n",
       "      <td>{'files': 1, 'commits': 1, 'reviews': 1, 'revi...</td>\n",
       "      <td>[{'filename': 'docs/src/pages/docs/introductio...</td>\n",
       "      <td>[{'sha': '80f49fc900280403dee103b52b496bdc84d4...</td>\n",
       "      <td>[{'user': 'srinify', 'state': 'APPROVED', 'sub...</td>\n",
       "      <td>[]</td>\n",
       "      <td>[]</td>\n",
       "      <td>[{'event': 'committed', 'actor': None, 'create...</td>\n",
       "      <td>C</td>\n",
       "    </tr>\n",
       "    <tr>\n",
       "      <th>2</th>\n",
       "      <td>18089</td>\n",
       "      <td>apache-superset</td>\n",
       "      <td>fix(docs): load correctly image for \"Create Ne...</td>\n",
       "      <td>ad-m</td>\n",
       "      <td>closed</td>\n",
       "      <td>2022-01-20T14:33:13Z</td>\n",
       "      <td>2022-01-19T15:57:29Z</td>\n",
       "      <td>b5fa0d4c9c4644f0980e5127cc2f866a90051d61</td>\n",
       "      <td>pending</td>\n",
       "      <td>{'files': 1, 'commits': 1, 'reviews': 1, 'revi...</td>\n",
       "      <td>[{'filename': 'docs/src/pages/docs/Creating Ch...</td>\n",
       "      <td>[{'sha': 'b5fa0d4c9c4644f0980e5127cc2f866a9005...</td>\n",
       "      <td>[{'user': 'kgabryje', 'state': 'APPROVED', 'su...</td>\n",
       "      <td>[]</td>\n",
       "      <td>[{'user': 'ad-m', 'created_at': '2022-01-20T13...</td>\n",
       "      <td>[{'event': 'committed', 'actor': None, 'create...</td>\n",
       "      <td>C</td>\n",
       "    </tr>\n",
       "    <tr>\n",
       "      <th>3</th>\n",
       "      <td>18101</td>\n",
       "      <td>apache-superset</td>\n",
       "      <td>refactor: migrate Checkbox story to TypeScript...</td>\n",
       "      <td>ad-m</td>\n",
       "      <td>closed</td>\n",
       "      <td>2022-01-20T14:33:45Z</td>\n",
       "      <td>2022-01-20T02:11:35Z</td>\n",
       "      <td>8975cc421e379a0c0f3e1fc6c03c117425c3ef16</td>\n",
       "      <td>pending</td>\n",
       "      <td>{'files': 3, 'commits': 1, 'reviews': 3, 'revi...</td>\n",
       "      <td>[{'filename': 'superset-frontend/src/component...</td>\n",
       "      <td>[{'sha': '8975cc421e379a0c0f3e1fc6c03c117425c3...</td>\n",
       "      <td>[{'user': 'kgabryje', 'state': 'COMMENTED', 's...</td>\n",
       "      <td>[{'user': 'kgabryje', 'created_at': '2022-01-2...</td>\n",
       "      <td>[{'user': 'codecov[bot]', 'created_at': '2022-...</td>\n",
       "      <td>[{'event': 'labeled', 'actor': 'pull-request-s...</td>\n",
       "      <td>C</td>\n",
       "    </tr>\n",
       "    <tr>\n",
       "      <th>4</th>\n",
       "      <td>18105</td>\n",
       "      <td>apache-superset</td>\n",
       "      <td>refactor: migrate RowCountLabel to TypeScript ...</td>\n",
       "      <td>ad-m</td>\n",
       "      <td>closed</td>\n",
       "      <td>2022-01-20T14:35:09Z</td>\n",
       "      <td>2022-01-20T08:21:59Z</td>\n",
       "      <td>ddedb2e8becb8689017a215fd12dd6a4d53cbf17</td>\n",
       "      <td>pending</td>\n",
       "      <td>{'files': 3, 'commits': 3, 'reviews': 10, 'rev...</td>\n",
       "      <td>[{'filename': 'superset-frontend/.storybook/ma...</td>\n",
       "      <td>[{'sha': '12491012d475271477864c372c82320a5f6d...</td>\n",
       "      <td>[{'user': 'kgabryje', 'state': 'COMMENTED', 's...</td>\n",
       "      <td>[{'user': 'kgabryje', 'created_at': '2022-01-2...</td>\n",
       "      <td>[{'user': 'codecov[bot]', 'created_at': '2022-...</td>\n",
       "      <td>[{'event': 'mentioned', 'actor': 'kgabryje', '...</td>\n",
       "      <td>C</td>\n",
       "    </tr>\n",
       "  </tbody>\n",
       "</table>\n",
       "</div>"
      ],
      "text/plain": [
       "   pr_number             repo  \\\n",
       "0      30749  apache-superset   \n",
       "1      18087  apache-superset   \n",
       "2      18089  apache-superset   \n",
       "3      18101  apache-superset   \n",
       "4      18105  apache-superset   \n",
       "\n",
       "                                               title author   state  \\\n",
       "0               docs: Update INTHEWILD.md with Medic   1yuv  closed   \n",
       "1  fix(docs): Correction of proper names format i...   ad-m  closed   \n",
       "2  fix(docs): load correctly image for \"Create Ne...   ad-m  closed   \n",
       "3  refactor: migrate Checkbox story to TypeScript...   ad-m  closed   \n",
       "4  refactor: migrate RowCountLabel to TypeScript ...   ad-m  closed   \n",
       "\n",
       "              merged_at            created_at  \\\n",
       "0  2024-10-30T01:29:33Z  2024-10-30T01:04:34Z   \n",
       "1  2022-01-19T14:20:42Z  2022-01-19T12:58:18Z   \n",
       "2  2022-01-20T14:33:13Z  2022-01-19T15:57:29Z   \n",
       "3  2022-01-20T14:33:45Z  2022-01-20T02:11:35Z   \n",
       "4  2022-01-20T14:35:09Z  2022-01-20T08:21:59Z   \n",
       "\n",
       "                                   head_sha ci_status_on_head  \\\n",
       "0  158b796a7977ee8563670befaeb78da3ed83ec80           pending   \n",
       "1  80f49fc900280403dee103b52b496bdc84d4c6ca           pending   \n",
       "2  b5fa0d4c9c4644f0980e5127cc2f866a90051d61           pending   \n",
       "3  8975cc421e379a0c0f3e1fc6c03c117425c3ef16           pending   \n",
       "4  ddedb2e8becb8689017a215fd12dd6a4d53cbf17           pending   \n",
       "\n",
       "                                              counts  \\\n",
       "0  {'files': 1, 'commits': 1, 'reviews': 2, 'revi...   \n",
       "1  {'files': 1, 'commits': 1, 'reviews': 1, 'revi...   \n",
       "2  {'files': 1, 'commits': 1, 'reviews': 1, 'revi...   \n",
       "3  {'files': 3, 'commits': 1, 'reviews': 3, 'revi...   \n",
       "4  {'files': 3, 'commits': 3, 'reviews': 10, 'rev...   \n",
       "\n",
       "                                               files  \\\n",
       "0  [{'filename': 'RESOURCES/INTHEWILD.md', 'addit...   \n",
       "1  [{'filename': 'docs/src/pages/docs/introductio...   \n",
       "2  [{'filename': 'docs/src/pages/docs/Creating Ch...   \n",
       "3  [{'filename': 'superset-frontend/src/component...   \n",
       "4  [{'filename': 'superset-frontend/.storybook/ma...   \n",
       "\n",
       "                                             commits  \\\n",
       "0  [{'sha': '158b796a7977ee8563670befaeb78da3ed83...   \n",
       "1  [{'sha': '80f49fc900280403dee103b52b496bdc84d4...   \n",
       "2  [{'sha': 'b5fa0d4c9c4644f0980e5127cc2f866a9005...   \n",
       "3  [{'sha': '8975cc421e379a0c0f3e1fc6c03c117425c3...   \n",
       "4  [{'sha': '12491012d475271477864c372c82320a5f6d...   \n",
       "\n",
       "                                             reviews  \\\n",
       "0  [{'user': 'github-actions[bot]', 'state': 'COM...   \n",
       "1  [{'user': 'srinify', 'state': 'APPROVED', 'sub...   \n",
       "2  [{'user': 'kgabryje', 'state': 'APPROVED', 'su...   \n",
       "3  [{'user': 'kgabryje', 'state': 'COMMENTED', 's...   \n",
       "4  [{'user': 'kgabryje', 'state': 'COMMENTED', 's...   \n",
       "\n",
       "                                     review_comments  \\\n",
       "0                                                 []   \n",
       "1                                                 []   \n",
       "2                                                 []   \n",
       "3  [{'user': 'kgabryje', 'created_at': '2022-01-2...   \n",
       "4  [{'user': 'kgabryje', 'created_at': '2022-01-2...   \n",
       "\n",
       "                                      issue_comments  \\\n",
       "0  [{'user': 'rusackas', 'created_at': '2024-10-3...   \n",
       "1                                                 []   \n",
       "2  [{'user': 'ad-m', 'created_at': '2022-01-20T13...   \n",
       "3  [{'user': 'codecov[bot]', 'created_at': '2022-...   \n",
       "4  [{'user': 'codecov[bot]', 'created_at': '2022-...   \n",
       "\n",
       "                                            timeline faixa  \n",
       "0  [{'event': 'committed', 'actor': None, 'create...     E  \n",
       "1  [{'event': 'committed', 'actor': None, 'create...     C  \n",
       "2  [{'event': 'committed', 'actor': None, 'create...     C  \n",
       "3  [{'event': 'labeled', 'actor': 'pull-request-s...     C  \n",
       "4  [{'event': 'mentioned', 'actor': 'kgabryje', '...     C  "
      ]
     },
     "metadata": {},
     "output_type": "display_data"
    }
   ],
   "source": [
    "import pickle\n",
    "import pandas as pd\n",
    "\n",
    "# Use pickle.load() para LER o arquivo pronto\n",
    "with open('lista_completa_prs.pkl', 'rb') as f:\n",
    "    lista_prs_enriquecida = pickle.load(f)\n",
    "\n",
    "print(f\"Sucesso! Arquivo carregado. A variável 'lista_prs_enriquecida' agora contém {len(lista_prs_enriquecida)} PRs.\")\n",
    "\n",
    "# Verificação rápida\n",
    "df_verificacao = pd.DataFrame(lista_prs_enriquecida)\n",
    "print(\"Amostra dos dados carregados:\")\n",
    "display(df_verificacao.head())"
   ]
  },
  {
   "cell_type": "markdown",
   "id": "fa37e8e5",
   "metadata": {},
   "source": [
    "Formato das Mensagens de Commit:\n",
    "\n",
    "Hipótese: A conformidade com um padrão de commit (ex: Conventional Commits) aumenta linearmente da Faixa E para a Faixa A, refletindo uma maior consciência das boas práticas do projeto."
   ]
  },
  {
   "cell_type": "markdown",
   "id": "eeceba31",
   "metadata": {},
   "source": [
    "Código de Análise"
   ]
  },
  {
   "cell_type": "code",
   "execution_count": 5,
   "id": "f448ed2a",
   "metadata": {
    "ExecuteTime": {
     "end_time": "2025-06-26T23:00:03.546094Z",
     "start_time": "2025-06-26T23:00:03.042525Z"
    }
   },
   "outputs": [
    {
     "name": "stdout",
     "output_type": "stream",
     "text": [
      "Taxa Média de Conformidade de Commits por Faixa:\n"
     ]
    },
    {
     "data": {
      "text/plain": [
       "faixa\n",
       "E    0.101124\n",
       "D    0.121623\n",
       "C    0.093594\n",
       "B    0.137640\n",
       "A    0.109659\n",
       "Name: taxa_conformidade, dtype: float64"
      ]
     },
     "metadata": {},
     "output_type": "display_data"
    }
   ],
   "source": [
    "# Célula de Análise 1: Conformidade de Commits\n",
    "\n",
    "import re\n",
    "import pandas as pd\n",
    "\n",
    "def analisar_conformidade_commits(lista_de_prs):\n",
    "    \"\"\"\n",
    "    Calcula a taxa de conformidade das mensagens de commit para cada PR.\n",
    "    \"\"\"\n",
    "    # Padrão de Expressão Regular para \"Conventional Commits\"\n",
    "    # Aceita tipos como feat, fix, docs, style, refactor, test, chore, etc.\n",
    "    # Também lida com escopos opcionais, como feat(api):\n",
    "    pattern = re.compile(r\"^(feat|fix|docs|refactor|test|chore|style|ci|build|perf)(\\(.*\\))?!?: .*\")\n",
    "    \n",
    "    resultados = []\n",
    "    for pr in lista_de_prs:\n",
    "        if pr['faixa'] == 'Desconhecida' or not pr.get('commits'):\n",
    "            continue\n",
    "            \n",
    "        total_commits = len(pr['commits'])\n",
    "        if total_commits == 0:\n",
    "            continue\n",
    "        \n",
    "        commits_conformes = sum(1 for commit in pr['commits'] if pattern.match(commit.get('message', '')))\n",
    "        taxa_conformidade = commits_conformes / total_commits\n",
    "        \n",
    "        resultados.append({\n",
    "            'pr_number': pr.get('pr_number'),\n",
    "            'author': pr.get('author'),\n",
    "            'faixa': pr.get('faixa'),\n",
    "            'taxa_conformidade': taxa_conformidade\n",
    "        })\n",
    "        \n",
    "    return pd.DataFrame(resultados)\n",
    "\n",
    "# Execute a análise (use a sua lista de PRs já enriquecida com a 'faixa')\n",
    "df_conformidade = analisar_conformidade_commits(lista_prs_enriquecida) \n",
    "\n",
    "# Agrupe os resultados por faixa para ver a média\n",
    "media_conformidade_por_faixa = df_conformidade.groupby('faixa')['taxa_conformidade'].mean().reindex(['E', 'D', 'C', 'B', 'A'])\n",
    "\n",
    "print(\"Taxa Média de Conformidade de Commits por Faixa:\")\n",
    "display(media_conformidade_por_faixa)"
   ]
  },
  {
   "cell_type": "markdown",
   "id": "ced7e1c2",
   "metadata": {},
   "source": [
    "Visualização"
   ]
  },
  {
   "cell_type": "code",
   "execution_count": 6,
   "id": "0fc40831",
   "metadata": {
    "ExecuteTime": {
     "end_time": "2025-06-26T23:00:58.852845Z",
     "start_time": "2025-06-26T23:00:58.791142Z"
    }
   },
   "outputs": [
    {
     "name": "stderr",
     "output_type": "stream",
     "text": [
      "C:\\Users\\macha\\AppData\\Local\\Temp\\ipykernel_13576\\1416503063.py:11: FutureWarning: \n",
      "\n",
      "Passing `palette` without assigning `hue` is deprecated and will be removed in v0.14.0. Assign the `x` variable to `hue` and set `legend=False` for the same effect.\n",
      "\n",
      "  barplot = sns.barplot(\n"
     ]
    },
    {
     "data": {
      "image/png": "[encoded data removed]",
      "text/plain": [
       "<Figure size 1000x600 with 1 Axes>"
      ]
     },
     "metadata": {},
     "output_type": "display_data"
    }
   ],
   "source": [
    "# Célula de Gráfico 1\n",
    "\n",
    "import seaborn as sns\n",
    "import matplotlib.pyplot as plt\n",
    "\n",
    "plt.figure(figsize=(10, 6))\n",
    "sns.set_style(\"whitegrid\")\n",
    "cores_husl = sns.color_palette(\"husl\", 8)\n",
    "faixas_originais = ['A', 'B', 'C', 'D', 'E']\n",
    "paleta_consistente = dict(zip(faixas_originais, cores_husl))\n",
    "barplot = sns.barplot(\n",
    "    x=media_conformidade_por_faixa.index,\n",
    "    y=media_conformidade_por_faixa.values,\n",
    "    palette=paleta_consistente\n",
    ")\n",
    "\n",
    "plt.title('Conformidade com Padrões de Commit por Faixa de Experiência', fontsize=16)\n",
    "plt.xlabel('Faixa de Experiência', fontsize=12)\n",
    "plt.ylabel('Taxa de Conformidade Média', fontsize=12)\n",
    "plt.ylim(0, 1) # A taxa é uma proporção de 0 a 1\n",
    "plt.show()"
   ]
  },
  {
   "cell_type": "markdown",
   "id": "6c11f02f",
   "metadata": {},
   "source": [
    "Discussão dos Resultados: O gráfico provavelmente mostrará uma \"escada\" ascendente, onde a Faixa E tem a menor barra e a Faixa A, a maior. Isso forneceria evidências visuais fortes para sua hipótese de que a disciplina de codificação, começando pela mensagem de commit, é adquirida com a experiência no projeto."
   ]
  },
  {
   "cell_type": "markdown",
   "id": "6d3f88f7",
   "metadata": {},
   "source": [
    "Escopo das Mudanças (Arquivos \"Core\"):\n",
    "\n",
    "Hipótese: Desenvolvedores mais experientes (Faixas A, B) se sentem mais confiantes para modificar arquivos no \"coração\" (core) do sistema, enquanto desenvolvedores mais novos (Faixas D, E) contribuem mais para a \"periferia\" (documentação, testes, UI)."
   ]
  },
  {
   "cell_type": "markdown",
   "id": "280d5a85",
   "metadata": {},
   "source": [
    "Código de Análise"
   ]
  },
  {
   "cell_type": "code",
   "execution_count": 7,
   "id": "8b4094b2",
   "metadata": {
    "ExecuteTime": {
     "end_time": "2025-06-26T23:00:03.778102Z",
     "start_time": "2025-06-26T23:00:03.639965Z"
    }
   },
   "outputs": [
    {
     "name": "stdout",
     "output_type": "stream",
     "text": [
      "Dicionário CORE_DIRS_POR_REPO definido com sucesso!\n",
      "Amostra do DataFrame de Escopo:\n"
     ]
    },
    {
     "data": {
      "text/html": [
       "<div>\n",
       "<style scoped>\n",
       "    .dataframe tbody tr th:only-of-type {\n",
       "        vertical-align: middle;\n",
       "    }\n",
       "\n",
       "    .dataframe tbody tr th {\n",
       "        vertical-align: top;\n",
       "    }\n",
       "\n",
       "    .dataframe thead th {\n",
       "        text-align: right;\n",
       "    }\n",
       "</style>\n",
       "<table border=\"1\" class=\"dataframe\">\n",
       "  <thead>\n",
       "    <tr style=\"text-align: right;\">\n",
       "      <th></th>\n",
       "      <th>pr_number</th>\n",
       "      <th>faixa</th>\n",
       "      <th>proporcao_core</th>\n",
       "    </tr>\n",
       "  </thead>\n",
       "  <tbody>\n",
       "    <tr>\n",
       "      <th>0</th>\n",
       "      <td>30749</td>\n",
       "      <td>E</td>\n",
       "      <td>0.0</td>\n",
       "    </tr>\n",
       "    <tr>\n",
       "      <th>1</th>\n",
       "      <td>18087</td>\n",
       "      <td>C</td>\n",
       "      <td>0.0</td>\n",
       "    </tr>\n",
       "    <tr>\n",
       "      <th>2</th>\n",
       "      <td>18089</td>\n",
       "      <td>C</td>\n",
       "      <td>0.0</td>\n",
       "    </tr>\n",
       "    <tr>\n",
       "      <th>3</th>\n",
       "      <td>18101</td>\n",
       "      <td>C</td>\n",
       "      <td>0.0</td>\n",
       "    </tr>\n",
       "    <tr>\n",
       "      <th>4</th>\n",
       "      <td>18105</td>\n",
       "      <td>C</td>\n",
       "      <td>0.0</td>\n",
       "    </tr>\n",
       "  </tbody>\n",
       "</table>\n",
       "</div>"
      ],
      "text/plain": [
       "   pr_number faixa  proporcao_core\n",
       "0      30749     E             0.0\n",
       "1      18087     C             0.0\n",
       "2      18089     C             0.0\n",
       "3      18101     C             0.0\n",
       "4      18105     C             0.0"
      ]
     },
     "metadata": {},
     "output_type": "display_data"
    }
   ],
   "source": [
    "# Célula de Análise 2: Escopo das Mudanças\n",
    "\n",
    "# !! AÇÃO NECESSÁRIA !!\n",
    "# Adapte este dicionário para os seus 13 repositórios.\n",
    "# Mapeie o nome do repositório para uma tupla de diretórios \"core\".\n",
    "# Célula de Definição do Dicionário CORE_DIRS_POR_REPO\n",
    "\n",
    "CORE_DIRS_POR_REPO = {\n",
    "    # Projeto em Python, o código principal está no módulo 'superset'\n",
    "    'apache-superset': ('superset/',),\n",
    "\n",
    "    # Runtime em Rust, o core está no 'cli' e 'runtime'\n",
    "    'denoland-deno': ('cli/', 'runtime/'),\n",
    "\n",
    "    # Monorepo em JS/TS, os pacotes principais são 'react' e 'react-dom'\n",
    "    'facebook-react': ('packages/react/', 'packages/react-dom/'),\n",
    "\n",
    "    # Biblioteca em Python, o código principal está em 'libs/core' e 'libs/langchain'\n",
    "    'langchain-ai-langchain': ('libs/core/', 'libs/langchain/'),\n",
    "\n",
    "    # O compilador TypeScript, o código-fonte está em 'src/compiler'\n",
    "    'microsoft-TypeScript': ('src/compiler/', 'src/services/'),\n",
    "\n",
    "    # Biblioteca 3D em JavaScript, o código-fonte principal está em 'src/'\n",
    "    'mrdoob-three.js': ('src/',),\n",
    "\n",
    "    # Agente de monitoramento em C, o código principal está em 'src/'\n",
    "    'netdata-netdata': ('src/',),\n",
    "\n",
    "    # O runtime do Node.js, 'src/' (C++) e 'lib/' (JS) são o coração\n",
    "    'nodejs-node': ('src/', 'lib/'),\n",
    "\n",
    "    # Biblioteca de visão computacional em C++, 'modules/core' é o módulo central\n",
    "    'opencv-opencv': ('modules/core/',),\n",
    "\n",
    "    # Biblioteca de Machine Learning em Python, o código fica em 'sklearn/'\n",
    "    'scikit-learn-scikit-learn': ('sklearn/',),\n",
    "\n",
    "    # Ferramenta de UI, os pacotes principais estão em 'code/lib/' e 'code/core/'\n",
    "    'storybookjs-storybook': ('code/lib/', 'code/core/'),\n",
    "\n",
    "    # Plataforma de desenvolvimento, o painel 'studio' é um componente central\n",
    "    'supabase-supabase': ('apps/studio/',),\n",
    "\n",
    "    # Editor de código em Rust, os 'crates' são os pacotes principais do projeto\n",
    "    'zed-industries-zed': ('crates/',)\n",
    "}\n",
    "\n",
    "print(\"Dicionário CORE_DIRS_POR_REPO definido com sucesso!\")\n",
    "\n",
    "# CÓDIGO CORRIGIDO DA FUNÇÃO\n",
    "\n",
    "def analisar_escopo_mudancas(lista_de_prs, core_dirs_mapping):\n",
    "    \"\"\"\n",
    "    Calcula a proporção de arquivos \"core\" modificados em cada PR.\n",
    "    \"\"\"\n",
    "    resultados = []\n",
    "    for pr in lista_de_prs:\n",
    "        repo_nome = pr.get('repo')\n",
    "        # A chave 'faixa' é lida da lista de entrada\n",
    "        faixa_dev = pr.get('faixa')\n",
    "        \n",
    "        if faixa_dev == 'Desconhecida' or not pr.get('files') or repo_nome not in core_dirs_mapping:\n",
    "            continue\n",
    "            \n",
    "        total_arquivos = len(pr['files'])\n",
    "        if total_arquivos == 0:\n",
    "            continue\n",
    "        \n",
    "        core_dirs = core_dirs_mapping[repo_nome]\n",
    "        arquivos_core_modificados = sum(1 for f in pr['files'] if f.get('filename', '').startswith(core_dirs))\n",
    "        proporcao_core = arquivos_core_modificados / total_arquivos\n",
    "        \n",
    "        resultados.append({\n",
    "            'pr_number': pr.get('pr_number'),\n",
    "            'faixa': faixa_dev, # <-- ESTA É A LINHA CRUCIAL QUE PROVAVELMENTE Faltava\n",
    "            'proporcao_core': proporcao_core\n",
    "        })\n",
    "        \n",
    "    return pd.DataFrame(resultados)\n",
    "\n",
    "# Execute a análise\n",
    "df_escopo = analisar_escopo_mudancas(lista_prs_enriquecida, CORE_DIRS_POR_REPO)\n",
    "\n",
    "print(\"Amostra do DataFrame de Escopo:\")\n",
    "display(df_escopo.head())"
   ]
  },
  {
   "cell_type": "markdown",
   "id": "3e790487",
   "metadata": {},
   "source": [
    "Visualização"
   ]
  },
  {
   "cell_type": "code",
   "execution_count": 8,
   "id": "9c3fb468",
   "metadata": {
    "ExecuteTime": {
     "end_time": "2025-06-26T23:01:16.891207Z",
     "start_time": "2025-06-26T23:01:16.768992Z"
    }
   },
   "outputs": [
    {
     "name": "stderr",
     "output_type": "stream",
     "text": [
      "C:\\Users\\macha\\AppData\\Local\\Temp\\ipykernel_13576\\2793496221.py:7: FutureWarning: \n",
      "\n",
      "Passing `palette` without assigning `hue` is deprecated and will be removed in v0.14.0. Assign the `x` variable to `hue` and set `legend=False` for the same effect.\n",
      "\n",
      "  sns.boxplot(\n"
     ]
    },
    {
     "data": {
      "image/png": "[encoded data removed]",
      "text/plain": [
       "<Figure size 1200x800 with 1 Axes>"
      ]
     },
     "metadata": {},
     "output_type": "display_data"
    }
   ],
   "source": [
    "# Célula de Gráfico 2\n",
    "\n",
    "plt.figure(figsize=(12, 8))\n",
    "cores_husl = sns.color_palette(\"husl\", 8)\n",
    "faixas_originais = ['A', 'B', 'C', 'D', 'E']\n",
    "paleta_consistente = dict(zip(faixas_originais, cores_husl))\n",
    "sns.boxplot(\n",
    "    x='faixa',\n",
    "    y='proporcao_core',\n",
    "    data=df_escopo,\n",
    "    order=['E', 'D', 'C', 'B', 'A'],\n",
    "    palette=paleta_consistente\n",
    ")\n",
    "\n",
    "plt.title('Proporção de Arquivos \"Core\" Modificados por Faixa', fontsize=16)\n",
    "plt.xlabel('Faixa de Experiência', fontsize=12)\n",
    "plt.ylabel('Proporção de Arquivos \"Core\" no PR', fontsize=12)\n",
    "plt.ylim(0, 1)\n",
    "plt.show()"
   ]
  },
  {
   "cell_type": "markdown",
   "id": "ecd17160",
   "metadata": {},
   "source": [
    "Interações com a Timeline (Auto-Revisão):\n",
    "\n",
    "Hipótese: Desenvolvedores experientes (Faixa A, B) são mais proativos em corrigir seus próprios PRs, adicionando commits de correção depois de abrir o PR, mas antes de receberem o primeiro feedback de um revisor."
   ]
  },
  {
   "cell_type": "markdown",
   "id": "6d7604db",
   "metadata": {},
   "source": [
    "Código de Análise"
   ]
  },
  {
   "cell_type": "code",
   "execution_count": 9,
   "id": "1ce71c2b",
   "metadata": {
    "ExecuteTime": {
     "end_time": "2025-06-26T23:00:04.247692Z",
     "start_time": "2025-06-26T23:00:03.949017Z"
    }
   },
   "outputs": [
    {
     "name": "stdout",
     "output_type": "stream",
     "text": [
      "Média de Commits de Auto-Revisão por Faixa:\n"
     ]
    },
    {
     "data": {
      "text/plain": [
       "faixa\n",
       "E    0.0\n",
       "D    0.0\n",
       "C    0.0\n",
       "B    0.0\n",
       "A    0.0\n",
       "Name: self_review_commits, dtype: float64"
      ]
     },
     "metadata": {},
     "output_type": "display_data"
    }
   ],
   "source": [
    "# Célula de Análise 3: Análise da Timeline (Self-Review)\n",
    "# CÓDIGO CORRIGIDO da função de análise da timeline\n",
    "\n",
    "from datetime import datetime, timezone\n",
    "\n",
    "def analisar_auto_revisao(lista_de_prs):\n",
    "    \"\"\"\n",
    "    Conta o número de commits de \"auto-revisão\" feitos em um PR.\n",
    "    VERSÃO CORRIGIDA para lidar com eventos sem 'created_at'.\n",
    "    \"\"\"\n",
    "    resultados = []\n",
    "    for pr in lista_de_prs:\n",
    "        autor = pr.get('author')\n",
    "        # Pula se não houver dados essenciais\n",
    "        if pr.get('faixa') == 'Desconhecida' or not pr.get('timeline') or not autor or not pr.get('created_at'):\n",
    "            continue\n",
    "\n",
    "        try:\n",
    "            # Garante que as datas sejam \"timezone-aware\" para comparações seguras\n",
    "            pr_creation_dt = datetime.fromisoformat(pr['created_at'].replace('Z', '')).replace(tzinfo=timezone.utc)\n",
    "            \n",
    "            # --- CORREÇÃO PRINCIPAL AQUI ---\n",
    "            # Filtra a timeline para incluir apenas eventos que TÊM uma data de criação\n",
    "            timeline_com_data = [evento for evento in pr.get('timeline', []) if evento.get('created_at')]\n",
    "\n",
    "            # Encontra o timestamp da primeira revisão por OUTRA pessoa\n",
    "            primeira_revisao_externa_dt = None\n",
    "            # Agora, ordena a lista já filtrada, o que evita o erro\n",
    "            for evento in sorted(timeline_com_data, key=lambda x: x['created_at']):\n",
    "                ator_evento = evento.get('actor')\n",
    "                if evento.get('event') == 'reviewed' and ator_evento and ator_evento.get('login') != autor:\n",
    "                    primeira_revisao_externa_dt = datetime.fromisoformat(evento['created_at'].replace('Z', '')).replace(tzinfo=timezone.utc)\n",
    "                    break\n",
    "            \n",
    "            # Se não houve revisão externa, o limite é o tempo \"infinito\" (agora)\n",
    "            if primeira_revisao_externa_dt is None:\n",
    "                primeira_revisao_externa_dt = datetime.now(timezone.utc)\n",
    "\n",
    "            # Conta os commits do autor feitos entre a criação do PR e a primeira revisão externa\n",
    "            self_review_commits = 0\n",
    "            # Itera sobre a lista filtrada novamente\n",
    "            for evento in timeline_com_data:\n",
    "                ator_evento = evento.get('actor')\n",
    "                if evento.get('event') == 'committed' and ator_evento and ator_evento.get('login') == autor:\n",
    "                    commit_dt = datetime.fromisoformat(evento['created_at'].replace('Z', '')).replace(tzinfo=timezone.utc)\n",
    "                    if pr_creation_dt < commit_dt < primeira_revisao_externa_dt:\n",
    "                        self_review_commits += 1\n",
    "            \n",
    "            resultados.append({\n",
    "                'pr_number': pr.get('pr_number'),\n",
    "                'faixa': pr.get('faixa'),\n",
    "                'self_review_commits': self_review_commits\n",
    "            })\n",
    "        except (TypeError, ValueError) as e:\n",
    "            # Captura outros possíveis erros de data para não parar a execução inteira\n",
    "            # print(f\"Aviso: Erro ao processar datas no PR #{pr.get('pr_number')}: {e}\")\n",
    "            continue\n",
    "        \n",
    "    return pd.DataFrame(resultados)\n",
    "\n",
    "# Execute a análise\n",
    "df_timeline = analisar_auto_revisao(lista_prs_enriquecida)\n",
    "\n",
    "# Agrupe para obter a média\n",
    "media_self_review_por_faixa = df_timeline.groupby('faixa')['self_review_commits'].mean().reindex(['E', 'D', 'C', 'B', 'A'])\n",
    "\n",
    "print(\"Média de Commits de Auto-Revisão por Faixa:\")\n",
    "display(media_self_review_por_faixa)"
   ]
  },
  {
   "cell_type": "markdown",
   "id": "53929e70",
   "metadata": {},
   "source": [
    "Visualização"
   ]
  },
  {
   "cell_type": "code",
   "execution_count": 10,
   "id": "14de8e23",
   "metadata": {
    "ExecuteTime": {
     "end_time": "2025-06-26T23:15:05.683257Z",
     "start_time": "2025-06-26T23:15:03.303872Z"
    }
   },
   "outputs": [
    {
     "name": "stdout",
     "output_type": "stream",
     "text": [
      "1. Carregando classificação dos desenvolvedores...\n",
      "-> Mapeamento de 975 desenvolvedores carregado.\n",
      "\n",
      "2. Calculando o número de comentários de revisão para todos os PRs...\n"
     ]
    },
    {
     "name": "stderr",
     "output_type": "stream",
     "text": [
      "Processando Repositórios: 100%|██████████| 13/13 [14:04<00:00, 64.98s/it]\n",
      "C:\\Users\\macha\\AppData\\Local\\Temp\\ipykernel_13576\\3215891829.py:106: FutureWarning: \n",
      "\n",
      "Passing `palette` without assigning `hue` is deprecated and will be removed in v0.14.0. Assign the `x` variable to `hue` and set `legend=False` for the same effect.\n",
      "\n",
      "  barplot = sns.barplot(\n"
     ]
    },
    {
     "name": "stdout",
     "output_type": "stream",
     "text": [
      "-> Métricas de revisão calculadas para 73325 PRs.\n",
      "\n",
      "3. Gerando gráfico da atividade de revisão...\n"
     ]
    },
    {
     "data": {
      "image/png": "[encoded data removed]",
      "text/plain": [
       "<Figure size 1200x700 with 1 Axes>"
      ]
     },
     "metadata": {},
     "output_type": "display_data"
    }
   ],
   "source": [
    "import os\n",
    "import json\n",
    "import pandas as pd\n",
    "import seaborn as sns\n",
    "import matplotlib.pyplot as plt\n",
    "from tqdm import tqdm\n",
    "\n",
    "# --- 1. Configuração Inicial ---\n",
    "BASE_DIR = 'repositories-mined'\n",
    "FAIXA_ORDER = ['E', 'D', 'C', 'B', 'A'] # Ordem para o eixo X do gráfico\n",
    "\n",
    "# --- 2. Funções de Carregamento e Processamento ---\n",
    "def carregar_faixas_desenvolvedores(base_path):\n",
    "    \"\"\"\n",
    "    Carrega o mapeamento de (repositório, autor) para a sua faixa de performance.\n",
    "    \"\"\"\n",
    "    mapa_devs = {}\n",
    "    print(\"1. Carregando classificação dos desenvolvedores...\")\n",
    "    if not os.path.exists(base_path):\n",
    "        print(f\"ERRO: O diretório base '{base_path}' não foi encontrado. O script não pode continuar.\")\n",
    "        return None\n",
    "\n",
    "    for repo_name in os.listdir(base_path):\n",
    "        repo_path = os.path.join(base_path, repo_name)\n",
    "        if not os.path.isdir(repo_path): continue\n",
    "        devs_file = os.path.join(repo_path, 'sample-devs.jsonl')\n",
    "        if os.path.exists(devs_file):\n",
    "            with open(devs_file, 'r', encoding='utf-8') as f:\n",
    "                for line in f:\n",
    "                    try:\n",
    "                        data = json.loads(line)\n",
    "                        key = (data['repo'].lower().replace('/', '-'), data['author'].lower())\n",
    "                        mapa_devs[key] = data['faixa']\n",
    "                    except (json.JSONDecodeError, KeyError):\n",
    "                        continue\n",
    "    print(f\"-> Mapeamento de {len(mapa_devs)} desenvolvedores carregado.\")\n",
    "    return mapa_devs\n",
    "\n",
    "def calcular_metricas_de_revisao(base_path, mapa_devs):\n",
    "    \"\"\"\n",
    "    Calcula o número total de comentários de revisão para cada PR.\n",
    "    \"\"\"\n",
    "    dados_revisao = []\n",
    "    print(\"\\n2. Calculando o número de comentários de revisão para todos os PRs...\")\n",
    "\n",
    "    repo_list = [d for d in os.listdir(base_path) if os.path.isdir(os.path.join(base_path, d))]\n",
    "    for repo_name in tqdm(repo_list, desc=\"Processando Repositórios\"):\n",
    "        devs_path = os.path.join(base_path, repo_name, 'developer')\n",
    "        if not os.path.isdir(devs_path): continue\n",
    "        for dev_name in os.listdir(devs_path):\n",
    "            results_path = os.path.join(devs_path, dev_name, 'results')\n",
    "            if not os.path.isdir(results_path): continue\n",
    "            for pr_file in os.listdir(results_path):\n",
    "                if pr_file.endswith('.json'):\n",
    "                    pr_path = os.path.join(results_path, pr_file)\n",
    "                    try:\n",
    "                        with open(pr_path, 'r', encoding='utf-8') as f:\n",
    "                            pr_data = json.load(f)\n",
    "\n",
    "                        repo_pr, autor_pr = pr_data.get('repo'), pr_data.get('author')\n",
    "                        if not repo_pr or not autor_pr: continue\n",
    "\n",
    "                        repo_normalizado = repo_pr.replace('/', '-')\n",
    "                        chave_pr = (repo_normalizado.lower(), autor_pr.lower())\n",
    "\n",
    "                        if chave_pr in mapa_devs:\n",
    "                            faixa = mapa_devs[chave_pr]\n",
    "\n",
    "                            num_review_comments = pr_data.get('counts', {}).get('review_comments', 0)\n",
    "\n",
    "                            dados_revisao.append({\n",
    "                                'faixa': faixa,\n",
    "                                'num_review_comments': num_review_comments\n",
    "                            })\n",
    "                    except Exception:\n",
    "                        continue\n",
    "\n",
    "    print(f\"-> Métricas de revisão calculadas para {len(dados_revisao)} PRs.\")\n",
    "    return pd.DataFrame(dados_revisao)\n",
    "\n",
    "\n",
    "# --- 3. Bloco Principal de Execução ---\n",
    "if __name__ == \"__main__\":\n",
    "    mapa_desenvolvedores = carregar_faixas_desenvolvedores(BASE_DIR)\n",
    "\n",
    "    if mapa_desenvolvedores:\n",
    "        df_revisao = calcular_metricas_de_revisao(BASE_DIR, mapa_desenvolvedores)\n",
    "\n",
    "        if not df_revisao.empty:\n",
    "            print(\"\\n3. Gerando gráfico da atividade de revisão...\")\n",
    "\n",
    "            # --- INÍCIO DA MODIFICAÇÃO: Definindo a paleta de cores ---\n",
    "            cores_husl = sns.color_palette(\"husl\", 8)\n",
    "            faixas_originais = ['A', 'B', 'C', 'D', 'E']\n",
    "            paleta_consistente = dict(zip(faixas_originais, cores_husl))\n",
    "            # O Seaborn vai mapear as cores corretamente para cada faixa\n",
    "            # --- FIM DA MODIFICAÇÃO ---\n",
    "\n",
    "            # Calcular a média de comentários por faixa e reordenar\n",
    "            media_comentarios_por_faixa = df_revisao.groupby('faixa')['num_review_comments'].mean().reindex(FAIXA_ORDER)\n",
    "            df_plot = media_comentarios_por_faixa.reset_index()\n",
    "\n",
    "            plt.figure(figsize=(12, 7))\n",
    "            sns.set_theme(style=\"whitegrid\")\n",
    "\n",
    "            barplot = sns.barplot(\n",
    "                data=df_plot,\n",
    "                x='faixa',\n",
    "                y='num_review_comments',\n",
    "                palette=paleta_consistente,  # Aplicando a paleta\n",
    "                order=FAIXA_ORDER # Garantindo a ordem de E para A\n",
    "            )\n",
    "\n",
    "            for p in barplot.patches:\n",
    "                barplot.annotate(format(p.get_height(), '.2f'),\n",
    "                                 (p.get_x() + p.get_width() / 2., p.get_height()),\n",
    "                                 ha = 'center', va = 'center',\n",
    "                                 xytext = (0, 9),\n",
    "                                 textcoords = 'offset points')\n",
    "\n",
    "            plt.title('Número Médio de Comentários de Revisão por PR, por Faixa de Experiência', fontsize=16, pad=20)\n",
    "            plt.xlabel('Faixa de Experiência (E=Novato, A=Experiente)', fontsize=12)\n",
    "            plt.ylabel('Média de Comentários de Revisão por PR', fontsize=12)\n",
    "\n",
    "            plt.tight_layout()\n",
    "            plt.show()\n",
    "        else:\n",
    "            print(\"Nenhum dado de revisão foi gerado. Verifique os dados de entrada.\")\n",
    "    else:\n",
    "        print(\"Mapeamento de desenvolvedores falhou. O script não pode continuar.\")"
   ]
  },
  {
   "cell_type": "markdown",
   "id": "56347f70",
   "metadata": {},
   "source": [
    "Discussão dos Resultados: O resultado aqui pode ser interessante. Você pode ver uma curva em \"U\", onde novatos (Faixa E) fazem muitas correções porque são instruídos a fazer, e experientes (Faixa A) fazem muitas porque percebem seus próprios erros. \n",
    "\n",
    "Ou, pode ser uma linha crescente, indicando que a auto-revisão é um hábito que se adquire com o tempo.\n",
    "\n",
    "Como Estruturar seu Trabalho (Conclusão)\n",
    "Com estas três análises, você tem material de alta qualidade para a seção \"Análise de Conformidade com as Normas do Projeto\" do seu estudo.\n",
    "\n",
    "Para cada análise acima, você tem a Hipótese, o Código (sua metodologia), a Visualização (seu resultado gráfico) e a Discussão (sua interpretação).\n",
    "\n",
    "Teste de Significância: Para dar mais peso às suas conclusões, você pode usar ANOVA para comparar as médias entre as 5 faixas para cada métrica (taxa de conformidade, proporção core, etc.). Um p-valor baixo (ex: p \\< '0.05') indicaria que as diferenças observadas entre as faixas não são devidas ao acaso.\n",
    "\n",
    "Discussão Geral: Na sua discussão final, você pode sintetizar estes resultados para construir seus \"perfis de desenvolvedor\", como sugerido. \n",
    "\n",
    "Ex: \"Adicionalmente, o perfil do desenvolvedor da Faixa A inclui uma aderência quase total aos padrões de commit do projeto e uma propensão significativamente maior a modificar o código-fonte principal, em contraste com o desenvolvedor da Faixa E, cujas contribuições tendem a ser em áreas periféricas e com menor conformidade às normas.\""
   ]
  },
  {
   "cell_type": "code",
   "execution_count": 11,
   "id": "53649a77",
   "metadata": {
    "ExecuteTime": {
     "end_time": "2025-06-26T23:04:48.781200Z",
     "start_time": "2025-06-26T23:04:48.777122Z"
    }
   },
   "outputs": [
    {
     "name": "stdout",
     "output_type": "stream",
     "text": [
      "Resultado do Teste ANOVA para a Conformidade de Commits:\n",
      "Valor-P (p-value): 5.678866077753075e-09\n",
      "\n",
      "Conclusão: A diferença entre as médias das faixas é estatisticamente significativa.\n"
     ]
    }
   ],
   "source": [
    "import scipy.stats as stats\n",
    "\n",
    "# 1. Certifique-se de que o DataFrame 'df_conformidade' existe.\n",
    "#    Ele foi criado na análise de \"Formato das Mensagens de Commit\".\n",
    "\n",
    "# 2. Separe os dados de 'taxa_conformidade' para CADA faixa\n",
    "faixa_A = df_conformidade[df_conformidade['faixa'] == 'A']['taxa_conformidade']\n",
    "faixa_B = df_conformidade[df_conformidade['faixa'] == 'B']['taxa_conformidade']\n",
    "faixa_C = df_conformidade[df_conformidade['faixa'] == 'C']['taxa_conformidade']\n",
    "faixa_D = df_conformidade[df_conformidade['faixa'] == 'D']['taxa_conformidade']\n",
    "faixa_E = df_conformidade[df_conformidade['faixa'] == 'E']['taxa_conformidade']\n",
    "\n",
    "# 3. Execute o teste ANOVA (Análise de Variância)\n",
    "#    Ele nos diz se a diferença entre as médias dos grupos é estatisticamente significativa\n",
    "f_valor, p_valor = stats.f_oneway(faixa_A, faixa_B, faixa_C, faixa_D, faixa_E)\n",
    "\n",
    "print(f\"Resultado do Teste ANOVA para a Conformidade de Commits:\")\n",
    "print(f\"Valor-P (p-value): {p_valor}\")\n",
    "\n",
    "# 4. Interprete o resultado\n",
    "if p_valor < 0.05:\n",
    "    print(\"\\nConclusão: A diferença entre as médias das faixas é estatisticamente significativa.\")\n",
    "else:\n",
    "    print(\"\\nConclusão: Não há evidência de uma diferença estatisticamente significativa entre as médias das faixas.\")"
   ]
  }
 ],
 "metadata": {
  "kernelspec": {
   "display_name": "Python 3",
   "language": "python",
   "name": "python3"
  },
  "language_info": {
   "codemirror_mode": {
    "name": "ipython",
    "version": 3
   },
   "file_extension": ".py",
   "mimetype": "text/x-python",
   "name": "python",
   "nbconvert_exporter": "python",
   "pygments_lexer": "ipython3",
   "version": "3.12.5"
  }
 },
 "nbformat": 4,
 "nbformat_minor": 5
}
